{
 "cells": [
  {
   "cell_type": "markdown",
   "metadata": {},
   "source": [
    "# ¡Hola José!\n",
    "\n",
    "Mi nombre es Ezequiel Ferrario, soy code reviewer en Tripleten y tengo el agrado de revisar el proyecto que entregaste.\n",
    "\n",
    "Para simular la dinámica de un ambiente de trabajo, si veo algún error, en primer instancia solo los señalaré, dándote la oportunidad de encontrarlos y corregirlos por tu cuenta. En un trabajo real, el líder de tu equipo hará una dinámica similar. En caso de que no puedas resolver la tarea, te daré una información más precisa en la próxima revisión.\n",
    "\n",
    "Encontrarás mis comentarios más abajo - **por favor, no los muevas, no los modifiques ni los borres**.\n",
    "\n",
    "¿Cómo lo voy a hacer? Voy a leer detenidamente cada una de las implementaciones que has llevado a cabo para cumplir con lo solicitado. Verás los comentarios de esta forma:\n",
    "\n",
    "\n",
    "<div class=\"alert alert-block alert-success\">\n",
    "<b>Comentario del revisor</b> <a class=\"tocSkip\"></a>\n",
    "\n",
    "Si todo está perfecto.\n",
    "</div>\n",
    "\n",
    "\n",
    "<div class=\"alert alert-block alert-warning\">\n",
    "<b>Comentario del revisor</b> <a class=\"tocSkip\"></a>\n",
    "\n",
    "Si tu código está bien pero se puede mejorar o hay algún detalle que le hace falta. Se aceptan uno o dos comentarios de este tipo en el borrador, pero si hay más, deberá hacer las correcciones. Es como una tarea de prueba al solicitar un trabajo: muchos pequeños errores pueden hacer que un candidato sea rechazado.\n",
    "</div>\n",
    "\n",
    "<div class=\"alert alert-block alert-danger\">\n",
    "\n",
    "<b>Comentario del revisor</b> <a class=\"tocSkip\"></a>\n",
    "\n",
    "Si de pronto hace falta algo o existe algún problema con tu código o conclusiones.\n",
    "</div>\n",
    "\n",
    "Puedes responderme de esta forma:\n",
    "\n",
    "<div class=\"alert alert-block alert-info\">\n",
    "<b>Respuesta del estudiante</b> <a class=\"tocSkip\"></a>\n",
    "\n",
    "Hola, muchas gracias por tus comentarios y la revisión.        \n",
    "</div>\n",
    "\n",
    "¡Empecemos!"
   ]
  },
  {
   "cell_type": "markdown",
   "metadata": {},
   "source": [
    "---\n",
    "\n",
    "<div class=\"alert alert-block alert-success\">\n",
    "<b>Comentario general #1</b> <a class=\"tocSkip\"></a>\n",
    "\n",
    "José, me encanto el proyecto que realizaste.\n",
    "\n",
    "Te manejaste muy bien a nivel codigo, completando todos los pasos y logrando los objetivos del trabajo.\n",
    "\n",
    "Me gusto mucho como manejaste el elemento iterable en lo bucles y todas las extracciones realizadas.\n",
    "\n",
    "Las funciones estna muy bien planteadas y todo el agregado de strings fue muy  bueno, realmente agregan valor al proyecto.\n",
    "\n",
    "Es asi que el mismo, pasa a estar **aprobado**.\n",
    "\n",
    "Exitos en lo que viene, saludos.\n",
    "\n",
    "</div>\n",
    "\n",
    "---"
   ]
  },
  {
   "cell_type": "markdown",
   "metadata": {
    "id": "UCjlyTyyJm9R"
   },
   "source": [
    "\n",
    "\n",
    "Todavía desempeñándote como miembro del equipo analítico, en el primer proyecto hemos sentado las bases para la segunda fase. ¡Hemos llegado! Ahora aplicarás técnicas avanzadas para extraer datos significativos, atendiendo a las crecientes necesidades del cliente."
   ]
  },
  {
   "cell_type": "markdown",
   "metadata": {
    "id": "4ZzATQthJm9Y"
   },
   "source": [
    "Como sabes, las empresas recopilan y almacenan datos de una forma particular. Store 1 quiere almacenar toda la información de sus clientes en una tabla.\n",
    "\n",
    "\n",
    "| user_id | user_name | user_age | purchase_category | spending_per_category |\n",
    "| --- | --- | --- | --- | --- |\n",
    "| '32415' | 'mike', 'reed' | 32 | 'electronics', 'sport', 'books' | 894, 213, 173 |\n",
    "| '31980' | 'kate', 'morgan' | 24 | 'clothes', 'shoes' | 439, 390 |\n",
    "\n",
    "En términos técnicos, una tabla es simplemente una lista anidada que contiene una sublista para cada usuario o usuaria.\n",
    "\n",
    "Store 1 ha creado una tabla de este tipo para sus usuarios. Está almacenada en la variable \"users\". Cada sublista contiene el ID del usuario, nombre y apellido, edad, categorías favoritas y el importe gastado en cada categoría."
   ]
  },
  {
   "cell_type": "markdown",
   "metadata": {
    "id": "EMQlsEYlxGET"
   },
   "source": [
    "-\t**user_id:** el identificador único para cada usuario.\n",
    "-\t**user_name:** el nombre de usuario.\n",
    "-\t**user_age:** la edad del usuario.\n",
    "-\t**fav_categories:** las categorías de artículos comprados por el usuario, como 'ELECTRONICS', 'SPORT', 'BOOKS', etc.\n",
    "-\t**total_spendings:** la lista de enteros que indican la cantidad gastada en cada una de sus categorías favoritas.\n"
   ]
  },
  {
   "cell_type": "code",
   "execution_count": 1,
   "metadata": {
    "id": "LfBCH4crxLOt"
   },
   "outputs": [],
   "source": [
    "users = [\n",
    "    ['32415', ' mike_reed ', 32.0, ['ELECTRONICS', 'SPORT', 'BOOKS'], [894, 213, 173]],\n",
    "    ['31980', 'kate morgan', 24.0, ['CLOTHES', 'BOOKS'], [439, 390]],\n",
    "    ['32156', ' john doe ', 37.0, ['ELECTRONICS', 'HOME', 'FOOD'], [459, 120, 99]],\n",
    "    ['32761', 'SAMANTHA SMITH', 29.0, ['CLOTHES', 'ELECTRONICS', 'BEAUTY'], [299, 679, 85]],\n",
    "    ['32984', 'David White', 41.0, ['BOOKS', 'HOME', 'SPORT'], [234, 329, 243]],\n",
    "    ['33001', 'emily brown', 26.0, ['BEAUTY', 'HOME', 'FOOD'], [213, 659, 79]],\n",
    "    ['33767', ' Maria Garcia', 33.0, ['CLOTHES', 'FOOD', 'BEAUTY'], [499, 189, 63]],\n",
    "    ['33912', 'JOSE MARTINEZ', 22.0, ['SPORT', 'ELECTRONICS', 'HOME'], [259, 549, 109]],\n",
    "    ['34009', 'lisa wilson ', 35.0, ['HOME', 'BOOKS', 'CLOTHES'], [329, 189, 329]],\n",
    "    ['34278', 'James Lee', 28.0, ['BEAUTY', 'CLOTHES', 'ELECTRONICS'], [189, 299, 579]],\n",
    "]\n"
   ]
  },
  {
   "cell_type": "markdown",
   "metadata": {
    "id": "vgnoxECvlWvr"
   },
   "source": [
    "# Paso 1\n",
    "\n",
    "En la última tarea de la primera parte de este proyecto escribiste código para:\n",
    "\n",
    "1. Eliminar todos los espacios iniciales y finales de los nombres, así como cualquier guion bajo.\n",
    "2. Convertir todas las edades en números enteros.\n",
    "3. Separar todos los nombres y apellidos en una sublista.\n",
    "\n",
    "Hagámoslo ahora una función para que podamos usarla para fijar a cualquier cliente. Nombra a tu función `clean_user`. Debe recibir una lista con toda la información del cliente (user_info), así como dos enteros. Uno de ellos señala el índice del nombre del cliente y el otro es el índice de la edad del cliente en la lista. Debe devolver la lista limpia después de aplicar todos los cambios anteriores. Pruébala llamándola, pasándole la lista `test_user[]` y luego muéstrala en pantalla.\n"
   ]
  },
  {
   "cell_type": "code",
   "execution_count": 2,
   "metadata": {
    "id": "RN6LIlHelWvr"
   },
   "outputs": [
    {
     "name": "stdout",
     "output_type": "stream",
     "text": [
      "['32415', ['Mike', 'Reed'], 32, ['ELECTRONICS', 'SPORT', 'BOOKS'], [894, 213, 173]]\n"
     ]
    }
   ],
   "source": [
    "# define tu función aquí\n",
    "\n",
    "def clean_user(user_info, name_index, age_index):\n",
    "    # Paso 1: elimina del nombre espacios iniciales y finales, así como guiones\n",
    "    user_name_1 = user_info[name_index].strip().replace('_', ' ')\n",
    "    # Convierte el nombre a minúsculas y luego convierte la primera letra de cada palabra en mayúscula\n",
    "    user_name_1 = user_name_1.lower().title()\n",
    "    # Paso 2: convierte la edad en entero\n",
    "    user_age_1 = int(user_info[age_index])\n",
    "\n",
    "    # Paso 3: separa el nombre y el apellido en una sublista\n",
    "    user_name_1 = user_name_1.split(' ')\n",
    "\n",
    "    # Prepara la lista con la información completa del usuario\n",
    "    # Reemplaza el nombre y la edad originales con los datos limpios\n",
    "    user_info[name_index] = user_name_1\n",
    "    user_info[age_index] = user_age_1\n",
    "    \n",
    "    return user_info\n",
    "\n",
    "# Prueba la función\n",
    "test_user = ['32415', ' mike_reed ', 32.0, ['ELECTRONICS', 'SPORT', 'BOOKS'], [894, 213, 173]]\n",
    "name_index = 1\n",
    "age_index = 2\n",
    "\n",
    "print(clean_user(test_user, name_index, age_index))"
   ]
  },
  {
   "cell_type": "markdown",
   "metadata": {},
   "source": [
    "<div class=\"alert alert-block alert-success\">\n",
    "<b>Comentario del revisor</b> <a class=\"tocSkip\"></a>\n",
    "\n",
    "Muy buen uso del title().\n",
    "\n",
    "</div>"
   ]
  },
  {
   "cell_type": "markdown",
   "metadata": {
    "id": "E8u2OO1YlWvr"
   },
   "source": [
    "********Pista********\n",
    "\n",
    "Para implementar la función `clean_user`, efectúa los siguientes pasos:\n",
    "\n",
    "1. **Recortar y reemplazar:** utiliza `strip()` para eliminar espacios iniciales y finales del nombre del usuario y `replace('_', ' ')` para eliminar guiones bajos con espacios.\n",
    "2. **Convertir la edad:** convierte la edad en entero utilizando la función `int()`.\n",
    "3. **Separar el nombre:** utiliza el método `split()` para separar el nombre y el apellido, creando una sublista.\n",
    "\n",
    "Asegúrate de modificar la lista `user_info` que aparece actualizando el nombre y la edad con los datos limpios antes de devolver la lista. Prueba tu función con un usuario de ejemplo para verificar que funciona correctamente.\n"
   ]
  },
  {
   "cell_type": "markdown",
   "metadata": {
    "id": "zF6ADQNLJm9W"
   },
   "source": [
    "# Paso 2\n",
    "\n",
    "Observa que todas las categorías favoritas están almacenadas en mayúsculas. Llena una nueva lista llamada `fav_categories_low` con las mismas categorías, pero en minúsculas, iterando sobre los valores en la lista `fav_categories`, modificándolos y luego añade los nuevos valores a la lista `fav_categories_low`. Como siempre, muestra el resultado final.\n"
   ]
  },
  {
   "cell_type": "code",
   "execution_count": 3,
   "metadata": {
    "id": "Ltoq2LXjJm9W"
   },
   "outputs": [
    {
     "name": "stdout",
     "output_type": "stream",
     "text": [
      "['electronics', 'sport', 'books']\n"
     ]
    }
   ],
   "source": [
    "fav_categories = ['ELECTRONICS', 'SPORT', 'BOOKS']\n",
    "fav_categories_low = []\n",
    "\n",
    "# Convertimos los valores de la lista categorías favoritas a minúsculas\n",
    "for category in fav_categories:\n",
    "    fav_categories_low.append(category.lower())\n",
    "\n",
    "print(fav_categories_low)"
   ]
  },
  {
   "cell_type": "markdown",
   "metadata": {},
   "source": [
    "<div class=\"alert alert-block alert-success\">\n",
    "<b>Comentario del revisor</b> <a class=\"tocSkip\"></a>\n",
    "\n",
    "Perfecto.\n",
    "</div>"
   ]
  },
  {
   "cell_type": "markdown",
   "metadata": {
    "id": "w0fevXJTJm9X"
   },
   "source": [
    "********Pista********\n",
    "\n",
    "Crea un bucle `for` que itere sobre la lista `fav_categories`. Utiliza el método `lower()` para transformar cada categoría a minúsculas. Luego, utiliza el método `append()` para agregar los valores actualizados a la lista `fav_categories_low`."
   ]
  },
  {
   "cell_type": "markdown",
   "metadata": {
    "id": "xhKqJwaqdrRu"
   },
   "source": [
    "# Paso 3\n",
    "\n",
    "Ahora hagamos lo mismo, pero para cada uno de los usuarios de la empresa. Llena una lista nueva llamada `users_categories_low` con los mismos usuarios, pero con sus categorías en minúsculas, iterando sobre los valores en la lista `users`, luego itera sobre los valores en `user_categories`, modificándolos, y después agrega los nuevos valores de usuarios a la lista `users_categories_low`. Como siempre, muestra el resultado final.\n"
   ]
  },
  {
   "cell_type": "code",
   "execution_count": 4,
   "metadata": {
    "id": "uBfnDzZfdrR1"
   },
   "outputs": [
    {
     "name": "stdout",
     "output_type": "stream",
     "text": [
      "[['32415', ' mike_reed ', 32.0, ['electronics', 'sport', 'books'], [894, 213, 173]], ['31980', 'kate morgan', 24.0, ['clothes', 'books'], [439, 390]], ['32156', ' john doe ', 37.0, ['electronics', 'home', 'food'], [459, 120, 99]], ['32761', 'SAMANTHA SMITH', 29.0, ['clothes', 'electronics', 'beauty'], [299, 679, 85]], ['32984', 'David White', 41.0, ['books', 'home', 'sport'], [234, 329, 243]], ['33001', 'emily brown', 26.0, ['beauty', 'home', 'food'], [213, 659, 79]], ['33767', ' Maria Garcia', 33.0, ['clothes', 'food', 'beauty'], [499, 189, 63]], ['33912', 'JOSE MARTINEZ', 22.0, ['sport', 'electronics', 'home'], [259, 549, 109]], ['34009', 'lisa wilson ', 35.0, ['home', 'books', 'clothes'], [329, 189, 329]], ['34278', 'James Lee', 28.0, ['beauty', 'clothes', 'electronics'], [189, 299, 579]]]\n"
     ]
    }
   ],
   "source": [
    "users = [\n",
    "    ['32415', ' mike_reed ', 32.0, ['ELECTRONICS', 'SPORT', 'BOOKS'], [894, 213, 173]],\n",
    "    ['31980', 'kate morgan', 24.0, ['CLOTHES', 'BOOKS'], [439, 390]],\n",
    "    ['32156', ' john doe ', 37.0, ['ELECTRONICS', 'HOME', 'FOOD'], [459, 120, 99]],\n",
    "    ['32761', 'SAMANTHA SMITH', 29.0, ['CLOTHES', 'ELECTRONICS', 'BEAUTY'], [299, 679, 85]],\n",
    "    ['32984', 'David White', 41.0, ['BOOKS', 'HOME', 'SPORT'], [234, 329, 243]],\n",
    "    ['33001', 'emily brown', 26.0, ['BEAUTY', 'HOME', 'FOOD'], [213, 659, 79]],\n",
    "    ['33767', ' Maria Garcia', 33.0, ['CLOTHES', 'FOOD', 'BEAUTY'], [499, 189, 63]],\n",
    "    ['33912', 'JOSE MARTINEZ', 22.0, ['SPORT', 'ELECTRONICS', 'HOME'], [259, 549, 109]],\n",
    "    ['34009', 'lisa wilson ', 35.0, ['HOME', 'BOOKS', 'CLOTHES'], [329, 189, 329]],\n",
    "    ['34278', 'James Lee', 28.0, ['BEAUTY', 'CLOTHES', 'ELECTRONICS'], [189, 299, 579]],\n",
    "]\n",
    "\n",
    "# Asignamos los datos de los usuarios a una nueva lista\n",
    "users_categories_low = users\n",
    "for user in users_categories_low:\n",
    "    #Creamos una lista vacía que almacenará las categorías en minúsculas\n",
    "    categories_low = []\n",
    "    for category in user[3]:\n",
    "        # Convierte las categoría a minúsculas\n",
    "        lowered_category = category.lower()\n",
    "        #Agregamos datos a la lista categories_low\n",
    "        categories_low.append(lowered_category)\n",
    "    # Reemplazamos la lista original de categorías con la lista en minúsculas\n",
    "    user[3] = categories_low\n",
    "\n",
    "\n",
    "print(users_categories_low)"
   ]
  },
  {
   "cell_type": "markdown",
   "metadata": {},
   "source": [
    "<div class=\"alert alert-block alert-success\">\n",
    "<b>Comentario del revisor</b> <a class=\"tocSkip\"></a>\n",
    "\n",
    "Muy bien pasadas las categorias a minusculas.\n",
    "</div>"
   ]
  },
  {
   "cell_type": "markdown",
   "metadata": {
    "id": "lom04QHKdrR1"
   },
   "source": [
    "********Pista********\n",
    "\n",
    "Crea un bucle `for` que itere sobre la lista `users`. Luego crea otro bucle `for` que itere sobre las categorías de usuarios para acceder al usuario y modificarlo. Utiliza el método `lower()` para transformar cada categoría a minúsculas. Luego, modifica al usuario eliminando la lista de categorías anteriores con `pop()` y con `insert()` inserta la nueva en su lugar. A continuación utiliza el método `append()` para agregar a los usuarios actualizados a la lista `users_categories_low`."
   ]
  },
  {
   "cell_type": "markdown",
   "metadata": {
    "id": "uisdgp0or8rS"
   },
   "source": [
    "# Paso 4\n",
    "\n",
    "Ahora, completemos el código de nuestra función `clean_user` para limpiar la categoría:\n",
    "1. Añade otro parámetro con el índice de categorías.\n",
    "2. Pon todos los nombres en minúsculas antes de aplicar \"strip\" y \"replace\".\n",
    "\n",
    "Después, crea un bucle y aplica tu función a toda la lista de usuarios, agregando tus resultados a la lista `users_clean`. Después muéstralo"
   ]
  },
  {
   "cell_type": "code",
   "execution_count": 5,
   "metadata": {
    "id": "ioGD_Cs5r8ra"
   },
   "outputs": [
    {
     "name": "stdout",
     "output_type": "stream",
     "text": [
      "[['32415', ['Mike', 'Reed'], 32, ['electronics', 'sport', 'books'], [894, 213, 173]], ['31980', ['Kate', 'Morgan'], 24, ['clothes', 'books'], [439, 390]], ['32156', ['John', 'Doe'], 37, ['electronics', 'home', 'food'], [459, 120, 99]], ['32761', ['Samantha', 'Smith'], 29, ['clothes', 'electronics', 'beauty'], [299, 679, 85]], ['32984', ['David', 'White'], 41, ['books', 'home', 'sport'], [234, 329, 243]], ['33001', ['Emily', 'Brown'], 26, ['beauty', 'home', 'food'], [213, 659, 79]], ['33767', ['Maria', 'Garcia'], 33, ['clothes', 'food', 'beauty'], [499, 189, 63]], ['33912', ['Jose', 'Martinez'], 22, ['sport', 'electronics', 'home'], [259, 549, 109]], ['34009', ['Lisa', 'Wilson'], 35, ['home', 'books', 'clothes'], [329, 189, 329]], ['34278', ['James', 'Lee'], 28, ['beauty', 'clothes', 'electronics'], [189, 299, 579]]]\n"
     ]
    }
   ],
   "source": [
    "def clean_user(user_info, name_index, age_index, cat_index):\n",
    "  # Paso 1: pon todo en minúsculas y elimina del nombre espacios iniciales y finales, así como guiones\n",
    "    user_name_1 = user_info[name_index].strip().replace('_', ' ')\n",
    "    user_name_1 = user_name_1.lower().title()\n",
    "  # Paso 2: convierte la edad en entero\n",
    "    user_age_1 = int(user_info[age_index])\n",
    "  # Paso 3: separa el nombre y el apellido en una sublista\n",
    "    user_name_1 = user_name_1.split(' ')\n",
    "  # Paso 4: poner categorías en minúsculas\n",
    "    categories_low = []\n",
    "    for category in user_info[cat_index]:\n",
    "    # Convierte las categoría a minúsculas\n",
    "        lowered_category = category.lower()\n",
    "    # Agregamos datos a la lista categories_low\n",
    "        categories_low.append(lowered_category)\n",
    "   \n",
    "  # Prepara la lista con la información completa del usuario\n",
    "  # Reemplaza el nombre y la edad originales con los datos limpios\n",
    "    clean_data = [user_info[0], user_name_1, user_age_1, categories_low, user_info[-1]]\n",
    "    return clean_data\n",
    "\n",
    "\n",
    "users = [\n",
    "    ['32415', ' mike_reed ', 32.0, ['ELECTRONICS', 'SPORT', 'BOOKS'], [894, 213, 173]],\n",
    "    ['31980', 'kate morgan', 24.0, ['CLOTHES', 'BOOKS'], [439, 390]],\n",
    "    ['32156', ' john doe ', 37.0, ['ELECTRONICS', 'HOME', 'FOOD'], [459, 120, 99]],\n",
    "    ['32761', 'SAMANTHA SMITH', 29.0, ['CLOTHES', 'ELECTRONICS', 'BEAUTY'], [299, 679, 85]],\n",
    "    ['32984', 'David White', 41.0, ['BOOKS', 'HOME', 'SPORT'], [234, 329, 243]],\n",
    "    ['33001', 'emily brown', 26.0, ['BEAUTY', 'HOME', 'FOOD'], [213, 659, 79]],\n",
    "    ['33767', ' Maria Garcia', 33.0, ['CLOTHES', 'FOOD', 'BEAUTY'], [499, 189, 63]],\n",
    "    ['33912', 'JOSE MARTINEZ', 22.0, ['SPORT', 'ELECTRONICS', 'HOME'], [259, 549, 109]],\n",
    "    ['34009', 'lisa wilson ', 35.0, ['HOME', 'BOOKS', 'CLOTHES'], [329, 189, 329]],\n",
    "    ['34278', 'James Lee', 28.0, ['BEAUTY', 'CLOTHES', 'ELECTRONICS'], [189, 299, 579]],\n",
    "]\n",
    "\n",
    "name_index = 1\n",
    "age_index = 2\n",
    "cat_index = 3\n",
    "users_cleaned = []\n",
    "\n",
    "for user in users:\n",
    "    user_cleaned = clean_user(user, name_index, age_index, cat_index)\n",
    "    users_cleaned.append(user_cleaned)\n",
    "\n",
    "print(users_cleaned)"
   ]
  },
  {
   "cell_type": "markdown",
   "metadata": {},
   "source": [
    "<div class=\"alert alert-block alert-success\">\n",
    "<b>Comentario del revisor</b> <a class=\"tocSkip\"></a>\n",
    "\n",
    "Excelente funcion.\n",
    "</div>"
   ]
  },
  {
   "cell_type": "markdown",
   "metadata": {
    "id": "h5SOurz6r8ra"
   },
   "source": [
    "********Pista********\n",
    "\n",
    "Efectúa los siguientes pasos para implementar la función `clean_user`:\n",
    "\n",
    "1. **Copia y adapta:** copia el código de tu función anterior `clean_user`.\n",
    "\n",
    "2. **Pon el nombre en minúsculas:** antes de aplicar `split()` y `replace()`, aplica `lower()` al nombre del cliente.\n",
    "\n",
    "3. **Procesa las categorías:** agrega una sección nueva para gestionar las categorías. Pon cada categoría de la lista en minúsculas y almacénalas en una nueva lista.\n",
    "\n",
    "4. **Ejecuta tu código:** asegúrate de que la función `clean_user` actualice la lista `user_info` con el nombre, edad y categorías limpias. Haz un bucle en la lista `users` y llama a la función `clean_user`, pasando el usuario, `name_index`, `age_index` y `cat_index` para especificar los índices correctos para el nombre, la edad y las categorías, respectivamente.\n",
    "\n",
    "5. Guarda cada nuevo usuario limpio en la lista nueva `users_cleaned`.\n",
    "\n",
    "Muestra en pantalla la lista `users_cleaned` para asegurarte de que tu código realiza las respectivas transformaciones.\n"
   ]
  },
  {
   "cell_type": "markdown",
   "metadata": {
    "id": "eONfrv9nJm9Y"
   },
   "source": [
    "# Paso 5\n",
    "\n",
    "La empresa desea conocer sus ingresos totales y te pide que proporciones este valor.\n",
    "Para calcular los ingresos de la empresa, sigue estos pasos:\n",
    "\n",
    "1. Utiliza `for` para iterar sobre la lista `users`.\n",
    "2. Extrae la lista de gastos de cada usuario y suma los valores.\n",
    "3. Actualiza el valor de los ingresos con el total de cada usuario.\n",
    "\n",
    "Así obtendrás los ingresos totales de la empresa que mostrarás en la pantalla al final.\n"
   ]
  },
  {
   "cell_type": "code",
   "execution_count": 6,
   "metadata": {
    "id": "ijzboKgoJm9Y"
   },
   "outputs": [
    {
     "name": "stdout",
     "output_type": "stream",
     "text": [
      "9189\n"
     ]
    }
   ],
   "source": [
    "users = [['32415', ['mike', 'reed'], 32, ['electronics', 'sport', 'books'], [894, 213, 173]],\n",
    "         ['31980', ['kate', 'morgan'], 24, ['clothes', 'books'], [439, 390]],\n",
    "         ['32156', ['john', 'doe'], 37, ['electronics', 'home', 'food'], [459, 120, 99]],\n",
    "         ['32761', ['samantha', 'smith'], 29, ['clothes', 'electronics', 'beauty'], [299, 679, 85]],\n",
    "         ['32984', ['david', 'white'], 41, ['books', 'home', 'sport'], [234, 329, 243]],\n",
    "         ['33001', ['emily', 'brown'], 26, ['beauty', 'home', 'food'], [213, 659, 79]],\n",
    "         ['33767', ['maria', 'garcia'], 33, ['clothes', 'food', 'beauty'], [499, 189, 63]],\n",
    "         ['33912', ['jose', 'martinez'], 22, ['sport', 'electronics', 'home'], [259, 549, 109]],\n",
    "         ['34009', ['lisa', 'wilson'], 35, ['home', 'books', 'clothes'], [329, 189, 329]],\n",
    "         ['34278', ['james', 'lee'], 28, ['beauty', 'clothes', 'electronics'], [189, 299, 579]]]\n",
    "\n",
    "revenue = 0\n",
    "\n",
    "# Recorremos el arreglo users\n",
    "for user in users:\n",
    "    # Sumamos los valores del arreglo en la posición -1 de la lista\n",
    "    spendings_list = sum(user[-1])\n",
    "    # Reemplazamos la suma total de los gastos\n",
    "    revenue += spendings_list\n",
    "    \n",
    "\n",
    "print(revenue)\n"
   ]
  },
  {
   "cell_type": "markdown",
   "metadata": {},
   "source": [
    "<div class=\"alert alert-block alert-success\">\n",
    "<b>Comentario del revisor</b> <a class=\"tocSkip\"></a>\n",
    "\n",
    "Genial.\n",
    "</div>"
   ]
  },
  {
   "cell_type": "markdown",
   "metadata": {
    "id": "s_1nxg0nJm9Y"
   },
   "source": [
    "********Pista********\n",
    "\n",
    "Para extraer la lista de gastos realizados por un usuario, utiliza la indexación y asígnala a la variable `spendings_list`. Luego, utiliza la función integrada para calcular la suma de `spending_list`. Por último, actualiza el valor de `revenue` añadiéndole  `total_spendings` mediante la asignación aumentada."
   ]
  },
  {
   "cell_type": "markdown",
   "metadata": {
    "id": "R1wNYes8Jm9X"
   },
   "source": [
    "# Paso 6\n",
    "\n",
    "La empresa quiere ofrecer descuentos a sus clientes leales. Los clientes que realizan compras por un importe total mayor a $1500 se consideran leales y recibirán un descuento.\n",
    "\n",
    "Nuestro objetivo es crear un bucle `while` que compruebe el importe total gastado y se detenga al alcanzarlo. Para simular nuevas compras, la variable `new_purchase` genera un número entre 30 y 80 en cada iteración del bucle. Esto representa la cantidad de dinero gastada en una nueva compra y es lo que debes agregar al total.\n",
    "\n",
    "Una vez que se alcance el importe objetivo y se termine el bucle `while`, se mostrará la cantidad final.\n"
   ]
  },
  {
   "cell_type": "code",
   "execution_count": 7,
   "metadata": {
    "id": "eVBfoyx7Jm9X"
   },
   "outputs": [
    {
     "name": "stdout",
     "output_type": "stream",
     "text": [
      "1544\n"
     ]
    }
   ],
   "source": [
    "from random import randint\n",
    "\n",
    "total_amount_spent = 1280\n",
    "target_amount = 1500\n",
    "\n",
    "while total_amount_spent <= target_amount:\n",
    "\tnew_purchase = randint(30, 80) # generamos un número aleatorio de 30 a 80\n",
    "\ttotal_amount_spent +=  new_purchase\n",
    "\n",
    "print(total_amount_spent)"
   ]
  },
  {
   "cell_type": "markdown",
   "metadata": {},
   "source": [
    "<div class=\"alert alert-block alert-success\">\n",
    "<b>Comentario del revisor</b> <a class=\"tocSkip\"></a>\n",
    "\n",
    "Muy bueno.\n",
    "\n",
    "</div>"
   ]
  },
  {
   "cell_type": "markdown",
   "metadata": {
    "id": "u7GIkFFnJm9Y"
   },
   "source": [
    "********Pista********\n",
    "\n",
    "En el bucle `while`, debes comparar `total_amount_spent` (importe total gastado) con `target_amount` (importe objetivo). Durante cada iteración del bucle, actualiza la variable `total_amount_spent` agregándole el valor `new_purchase`."
   ]
  },
  {
   "cell_type": "markdown",
   "metadata": {
    "id": "IoyNnalCJm9Z"
   },
   "source": [
    "# Paso 7\n",
    "\n",
    "Recorre la lista de usuarios que te hemos proporcionado y muestra los nombres de los clientes menores de 30 años.\n"
   ]
  },
  {
   "cell_type": "code",
   "execution_count": 8,
   "metadata": {
    "id": "pn5WkcpJJm9Z"
   },
   "outputs": [
    {
     "name": "stdout",
     "output_type": "stream",
     "text": [
      "[['Kate Morgan', 24], ['Samantha Smith', 29], ['Emily Brown', 26], ['Jose Martinez', 22], ['James Lee', 28]]\n",
      "Cliente: Kate Morgan, edad: 24\n",
      "Cliente: Samantha Smith, edad: 29\n",
      "Cliente: Emily Brown, edad: 26\n",
      "Cliente: Jose Martinez, edad: 22\n",
      "Cliente: James Lee, edad: 28\n"
     ]
    }
   ],
   "source": [
    "users = [['32415', ['mike', 'reed'], 32, ['electronics', 'sport', 'books'], [894, 213, 173]],\n",
    "         ['31980', ['kate', 'morgan'], 24, ['clothes', 'books'], [439, 390]],\n",
    "         ['32156', ['john', 'doe'], 37, ['electronics', 'home', 'food'], [459, 120, 99]],\n",
    "         ['32761', ['samantha', 'smith'], 29, ['clothes', 'electronics', 'beauty'], [299, 679, 85]],\n",
    "         ['32984', ['david', 'white'], 41, ['books', 'home', 'sport'], [234, 329, 243]],\n",
    "         ['33001', ['emily', 'brown'], 26, ['beauty', 'home', 'food'], [213, 659, 79]],\n",
    "         ['33767', ['maria', 'garcia'], 33, ['clothes', 'food', 'beauty'], [499, 189, 63]],\n",
    "         ['33912', ['jose', 'martinez'], 22, ['sport', 'electronics', 'home'], [259, 549, 109]],\n",
    "         ['34009', ['lisa', 'wilson'], 35, ['home', 'books', 'clothes'], [329, 189, 329]],\n",
    "         ['34278', ['james', 'lee'], 28, ['beauty', 'clothes', 'electronics'], [189, 299, 579]]]\n",
    "\n",
    "# Deinimos la lista de usuarios menores de 30 años vacía\n",
    "users_under_30 = []\n",
    "\n",
    "# Recorremos la lista de usuarios\n",
    "for user in users:\n",
    "    # Accedemos a la edad del usuario\n",
    "    age = user[2]\n",
    "    # Verificamos si la edad es menor a 30\n",
    "    if age < 30:\n",
    "        # Accedemos al nombre y apellidos del usuario\n",
    "        name = \" \".join([user[1][0], user[1][1]])\n",
    "        # Limpiamos el nombre y lo convertimos a título\n",
    "        clean_name = name.strip().title()\n",
    "        # Agregamos el nombre limpio y la edad a la lista de usuarios menores de 30\n",
    "        users_under_30.append([clean_name, age])\n",
    "        \n",
    "# Imprimimos la lista de usuarios menores de 30 años\n",
    "print(users_under_30)\n",
    "\n",
    "# Imprimimos usuarios menores de 30 años\n",
    "for user in users_under_30:\n",
    "    print(f'Cliente: {user[0]}, edad: {user[1]}')"
   ]
  },
  {
   "cell_type": "markdown",
   "metadata": {},
   "source": [
    "<div class=\"alert alert-block alert-success\">\n",
    "<b>Comentario del revisor</b> <a class=\"tocSkip\"></a>\n",
    "\n",
    "Muy buena extraccion, perfecto agregado de strings.\n",
    "</div>"
   ]
  },
  {
   "cell_type": "markdown",
   "metadata": {
    "id": "23wCUaWZJm9Z"
   },
   "source": [
    "********Pista********\n",
    "\n",
    "Utiliza el bucle for para iterar sobre cada fila de la tabla. Utiliza `if` dentro de un bucle `for` para imprimir el nombre de usuario o usuaria. El campo `age` tiene el índice 2"
   ]
  },
  {
   "cell_type": "markdown",
   "metadata": {
    "id": "0ok38JMoJm9Z"
   },
   "source": [
    "# Paso 8\n",
    "\n",
    "Mostremos en pantalla los nombres de los usuarios menores de 30 años que acumulan un gasto total superior a 1000 dólares.\n"
   ]
  },
  {
   "cell_type": "code",
   "execution_count": 9,
   "metadata": {
    "id": "4oAW1QDFJm9Z"
   },
   "outputs": [
    {
     "name": "stdout",
     "output_type": "stream",
     "text": [
      "Usuario: Samantha Smith, edad: 29\n",
      "Usuario: James Lee, edad: 28\n"
     ]
    }
   ],
   "source": [
    "users = [['32415', ['mike', 'reed'], 32, ['electronics', 'sport', 'books'], [894, 213, 173]],\n",
    "         ['31980', ['kate', 'morgan'], 24, ['clothes', 'books'], [439, 390]],\n",
    "         ['32156', ['john', 'doe'], 37, ['electronics', 'home', 'food'], [459, 120, 99]],\n",
    "         ['32761', ['samantha', 'smith'], 29, ['clothes', 'electronics', 'beauty'], [299, 679, 85]],\n",
    "         ['32984', ['david', 'white'], 41, ['books', 'home', 'sport'], [234, 329, 243]],\n",
    "         ['33001', ['emily', 'brown'], 26, ['beauty', 'home', 'food'], [213, 659, 79]],\n",
    "         ['33767', ['maria', 'garcia'], 33, ['clothes', 'food', 'beauty'], [499, 189, 63]],\n",
    "         ['33912', ['jose', 'martinez'], 22, ['sport', 'electronics', 'home'], [259, 549, 109]],\n",
    "         ['34009', ['lisa', 'wilson'], 35, ['home', 'books', 'clothes'], [329, 189, 329]],\n",
    "         ['34278', ['james', 'lee'], 28, ['beauty', 'clothes', 'electronics'], [189, 299, 579]]]\n",
    "\n",
    "# Definimos la función filter_users\n",
    "def filter_users(data_users, age_users, total_expense):\n",
    "    # Recorremos la lista de usuarios\n",
    "    for user in data_users:\n",
    "        # Accedemos al nombre y apellidos del usuario y convertimos a título\n",
    "        user_name = \" \".join([user[1][0], user[1][1]]).title()\n",
    "        # Definimos la edad del usuario de acuerdo a la lista\n",
    "        age = user[2]\n",
    "        # Calculamos el gasto total del usuario\n",
    "        expense = sum(user[-1])\n",
    "        # Verificamos si la edad es menor a 30 y el gasto total es mayor a 1000\n",
    "        if age < age_users and expense > total_expense:\n",
    "            # Imprimimos el nombre y la edad del usuario\n",
    "            print(f'Usuario: {user_name}, edad: {age}')\n",
    "\n",
    "# Llamamos a la función filter_users\n",
    "filter_users(users, 30, 1000)"
   ]
  },
  {
   "cell_type": "markdown",
   "metadata": {},
   "source": [
    "<div class=\"alert alert-block alert-success\">\n",
    "<b>Comentario del revisor</b> <a class=\"tocSkip\"></a>\n",
    "\n",
    "Perfecto usando expresiones anidadas.\n",
    "</div>"
   ]
  },
  {
   "cell_type": "markdown",
   "metadata": {
    "id": "5atbF9e_Jm9Z"
   },
   "source": [
    "********Pista********\n",
    "\n",
    "Utiliza el bucle for para iterar sobre cada fila de la tabla. Utiliza `if` dentro de un bucle `for` para imprimir el nombre de usuario o usuaria. El campo `age` tiene el índice 2. Utiliza la función `sum` para sumar los gastos y luego comprueba si es mayor de 1000 dólares."
   ]
  },
  {
   "cell_type": "markdown",
   "metadata": {
    "id": "H2jI5ljVJm9d"
   },
   "source": [
    "# Paso 9\n",
    "\n",
    "Ahora vamos a mostrar el nombre y la edad de todos los usuarios y todas las usuarias que han comprado ropa (\"clothes\"). Imprime el nombre y la edad en la misma declaración print.\n"
   ]
  },
  {
   "cell_type": "code",
   "execution_count": 10,
   "metadata": {
    "id": "oSLk86udJm9d"
   },
   "outputs": [
    {
     "name": "stdout",
     "output_type": "stream",
     "text": [
      "Nombre: Kate Morgan, edad: 24\n",
      "Nombre: Samantha Smith, edad: 29\n",
      "Nombre: Maria Garcia, edad: 33\n",
      "Nombre: Lisa Wilson, edad: 35\n",
      "Nombre: James Lee, edad: 28\n"
     ]
    }
   ],
   "source": [
    "users = [['32415', ['mike', 'reed'], 32, ['electronics', 'sport', 'books'], [894, 213, 173]],\n",
    "         ['31980', ['kate', 'morgan'], 24, ['clothes', 'books'], [439, 390]],\n",
    "         ['32156', ['john', 'doe'], 37, ['electronics', 'home', 'food'], [459, 120, 99]],\n",
    "         ['32761', ['samantha', 'smith'], 29, ['clothes', 'electronics', 'beauty'], [299, 679, 85]],\n",
    "         ['32984', ['david', 'white'], 41, ['books', 'home', 'sport'], [234, 329, 243]],\n",
    "         ['33001', ['emily', 'brown'], 26, ['beauty', 'home', 'food'], [213, 659, 79]],\n",
    "         ['33767', ['maria', 'garcia'], 33, ['clothes', 'food', 'beauty'], [499, 189, 63]],\n",
    "         ['33912', ['jose', 'martinez'], 22, ['sport', 'electronics', 'home'], [259, 549, 109]],\n",
    "         ['34009', ['lisa', 'wilson'], 35, ['home', 'books', 'clothes'], [329, 189, 329]],\n",
    "         ['34278', ['james', 'lee'], 28, ['beauty', 'clothes', 'electronics'], [189, 299, 579]]]\n",
    "\n",
    "# Definimos la función filter_info\n",
    "def filter_info(data_users, purchase_category):\n",
    "    # Recorremos la lista de usuarios\n",
    "    for user in data_users:\n",
    "        # Accedemos u unimos el nombre con el apellido del usuario y convertimos a título\n",
    "        name = \" \".join([user[1][0], user[1][1]]).title()\n",
    "        # Definimos la edad del usuario de acuerdo a la lista\n",
    "        age = user[2]\n",
    "        # Definimos las categoría de compra del usuario\n",
    "        category = user[3]\n",
    "        # Verificamos si la categoría de compra está en la lista de categorías del usuario\n",
    "        if purchase_category in category:\n",
    "            # Imprimimos el nombre y la edad del usuario\n",
    "            print(f'Nombre: {name}, edad: {age}')\n",
    "            \n",
    "# Llamamos a la función filter_info con los argumentos solicitados\n",
    "filter_info(users, \"clothes\")"
   ]
  },
  {
   "cell_type": "markdown",
   "metadata": {},
   "source": [
    "<div class=\"alert alert-block alert-success\">\n",
    "<b>Comentario del revisor</b> <a class=\"tocSkip\"></a>\n",
    "\n",
    "Excelente paso.\n",
    "</div>"
   ]
  },
  {
   "cell_type": "markdown",
   "metadata": {
    "id": "EasWyEPqJm9d"
   },
   "source": [
    "********Pista********\n",
    "\n",
    "Utiliza el bucle for para iterar sobre cada fila de la tabla. A continuación, utiliza otro bucle para comprobar si este usuario ha comprado ropa (\"clothes\") y, en caso afirmativo, muestra el nombre y la edad dentro de la misma declaración print, separándolos por comas: `print(firstname, age)`."
   ]
  },
  {
   "cell_type": "markdown",
   "metadata": {
    "id": "88QES-0NJzCJ"
   },
   "source": [
    "# Paso 10\n",
    "\n",
    "La dirección requiere de una función que proporcione información sobre los clientes, incluyendo sus nombres, edades y gasto total, filtrada por categorías específicas. Con base en fragmentos de código anteriores, crearemos una función llamada `get_client_by_cat` con las siguientes especificaciones:\n",
    "\n",
    "1. **Parámetros:**\n",
    "   - **users:** una lista con los datos de los usuarios.\n",
    "   - **id_index:** el índice donde está almacenado el ID del cliente en la lista de usuarios.\n",
    "   - **name_index:** el índice donde está almacenado el nombre del cliente en la lista de usuarios.\n",
    "   - **age_index:** el índice donde la edad del cliente está almacenada en la lista de usuarios.\n",
    "   - **category_index:** el índice donde las categorías de compras del cliente están listadas.\n",
    "   - **amounts_index:** el índice donde las cantidades gastadas en cada categoría están almacenadas.\n",
    "   - **filter_category:** un string que representa el nombre de la categoría para filtrar clientes.\n",
    "\n",
    "2. **Salida:**\n",
    "   - La función devuelve una lista de sublistas. Cada sublista contiene:\n",
    "     - El número ID del cliente.\n",
    "     - Una sublista con el nombre y apellido del cliente.\n",
    "     - La edad del cliente.\n",
    "     - Un entero que representa la cantidad total gastada por el cliente.\n",
    "\n",
    "Por ejemplo, si llamas a la función con los siguientes parámetros:\n",
    "\n",
    "\n",
    "```python\n",
    "get_client_by_cat([\n",
    "    ['32415', ['mike', 'reed'], 32, ['electronics', 'sport', 'books'], [894, 213, 173]]\n",
    "], 0, 1, 2, 3, 4, 'books')\n",
    "```\n",
    "\n",
    "La salida será:\n",
    "\n",
    "```python\n",
    "[['32415', ['mike', 'reed'], 32, 1280]]\n",
    "```\n",
    "\n",
    "Esta salida muestra que el cliente con el ID '32415', llamado Mike Reed, de 32 años, gastó un total de 1280 en la categoría 'books' y otras compras.\n",
    "\n",
    "Después de hacer tu función, llámala pasándole nuestra lista de usuarios, los índices adecuados y la categoría 'home' y muestra en pantalla la lista que resulta.\n",
    "\n"
   ]
  },
  {
   "cell_type": "code",
   "execution_count": 11,
   "metadata": {
    "id": "-Iqf7AcXJzCP"
   },
   "outputs": [
    {
     "name": "stdout",
     "output_type": "stream",
     "text": [
      "[['32156', ['john', 'doe'], 37, 678], ['32984', ['david', 'white'], 41, 806], ['33001', ['emily', 'brown'], 26, 951], ['33912', ['jose', 'martinez'], 22, 917], ['34009', ['lisa', 'wilson'], 35, 847]]\n"
     ]
    }
   ],
   "source": [
    "def get_client_by_cat(users, id_index, name_index, age_index, category_index, amounts_index, filter_category):\n",
    "    # Definimos la lista vacía que almacenará los datos filtrados\n",
    "    data_by_category = []\n",
    "    # Recorremos la lista de usuarios\n",
    "    for user in users:\n",
    "        # definimos la categoría de compra del usuario del arreglo\n",
    "        category = user[category_index]\n",
    "        # Verificamos si la categoría de compra está en la lista de categorías del usuario\n",
    "        if filter_category in category:\n",
    "            # Asignamos variables a los índices de la lista\n",
    "            id_user = user[id_index]\n",
    "            name = user[name_index]\n",
    "            age = user[age_index]\n",
    "            # Calculamos y asignamos el gastos total del usuario\n",
    "            total_amount = sum(user[amounts_index])\n",
    "            # Agregamos los datos del usuario a la lista de datos filtrados\n",
    "            data_by_category.append([id_user, name, age, total_amount])\n",
    "    return data_by_category\n",
    "            \n",
    "\n",
    "# La lista de usuarios\n",
    "users = [\n",
    "    ['32415', ['mike', 'reed'], 32, ['electronics', 'sport', 'books'], [894, 213, 173]],\n",
    "    ['31980', ['kate', 'morgan'], 24, ['clothes', 'books'], [439, 390]],\n",
    "    ['32156', ['john', 'doe'], 37, ['electronics', 'home', 'food'], [459, 120, 99]],\n",
    "    ['32761', ['samantha', 'smith'], 29, ['clothes', 'electronics', 'beauty'], [299, 679, 85]],\n",
    "    ['32984', ['david', 'white'], 41, ['books', 'home', 'sport'], [234, 329, 243]],\n",
    "    ['33001', ['emily', 'brown'], 26, ['beauty', 'home', 'food'], [213, 659, 79]],\n",
    "    ['33767', ['maria', 'garcia'], 33, ['clothes', 'food', 'beauty'], [499, 189, 63]],\n",
    "    ['33912', ['jose', 'martinez'], 22, ['sport', 'electronics', 'home'], [259, 549, 109]],\n",
    "    ['34009', ['lisa', 'wilson'], 35, ['home', 'books', 'clothes'], [329, 189, 329]],\n",
    "    ['34278', ['james', 'lee'], 28, ['beauty', 'clothes', 'electronics'], [189, 299, 579]]\n",
    "]\n",
    "\n",
    "# Llama a la función con la categoría 'home'\n",
    "result = get_client_by_cat(users, 0, 1, 2, 3, 4, 'home')\n",
    "\n",
    "# Muestra en pantalla la lista que resulta\n",
    "print(result)\n"
   ]
  },
  {
   "cell_type": "markdown",
   "metadata": {},
   "source": [
    "<div class=\"alert alert-block alert-success\">\n",
    "<b>Comentario del revisor</b> <a class=\"tocSkip\"></a>\n",
    "\n",
    "Perfecta extraccion, muy bien calculada la suma.-\n",
    "</div>"
   ]
  },
  {
   "cell_type": "markdown",
   "metadata": {
    "id": "wkWQL9Z9JzCP"
   },
   "source": [
    "********Pista********\n",
    "\n",
    "Utiliza un bucle for para iterar sobre cada usuario en la lista. Para cada usuario, verifica que la categoría deseada (\"filter_category\") esté en su lista de categorías de compras. Si se encuentra la categoría, calcula la cantidad total gastada sumando las cantidades en la lista correspondiente. Después, crea una sublista con el ID, nombre (como una lista de nombres y apellidos), edad y cantidad total gastada del usuario. Añade esta sublista a la lista final que resulta."
   ]
  }
 ],
 "metadata": {
  "ExecuteTimeLog": [
   {
    "duration": 9,
    "start_time": "2025-05-06T16:49:01.528Z"
   },
   {
    "duration": 4,
    "start_time": "2025-05-06T16:49:19.525Z"
   },
   {
    "duration": 3,
    "start_time": "2025-05-06T16:49:52.157Z"
   },
   {
    "duration": 4,
    "start_time": "2025-05-06T17:12:23.451Z"
   },
   {
    "duration": 9,
    "start_time": "2025-05-06T23:20:55.048Z"
   },
   {
    "duration": 6,
    "start_time": "2025-05-06T23:22:21.818Z"
   },
   {
    "duration": 7,
    "start_time": "2025-05-06T23:23:42.020Z"
   },
   {
    "duration": 6,
    "start_time": "2025-05-06T23:24:36.779Z"
   },
   {
    "duration": 7,
    "start_time": "2025-05-06T23:24:47.629Z"
   },
   {
    "duration": 6,
    "start_time": "2025-05-06T23:39:07.690Z"
   },
   {
    "duration": 4,
    "start_time": "2025-05-06T23:41:10.558Z"
   },
   {
    "duration": 4,
    "start_time": "2025-05-06T23:41:41.788Z"
   },
   {
    "duration": 5,
    "start_time": "2025-05-06T23:41:47.707Z"
   },
   {
    "duration": 5,
    "start_time": "2025-05-06T23:42:00.749Z"
   },
   {
    "duration": 5,
    "start_time": "2025-05-06T23:42:40.870Z"
   },
   {
    "duration": 4,
    "start_time": "2025-05-06T23:43:02.890Z"
   },
   {
    "duration": 6,
    "start_time": "2025-05-06T23:43:10.616Z"
   },
   {
    "duration": 5,
    "start_time": "2025-05-06T23:45:19.083Z"
   },
   {
    "duration": 6,
    "start_time": "2025-05-06T23:46:47.810Z"
   },
   {
    "duration": 183,
    "start_time": "2025-05-06T23:50:51.529Z"
   },
   {
    "duration": 19,
    "start_time": "2025-05-06T23:54:23.109Z"
   },
   {
    "duration": 19,
    "start_time": "2025-05-06T23:55:07.964Z"
   },
   {
    "duration": 5,
    "start_time": "2025-05-06T23:55:32.280Z"
   },
   {
    "duration": 5,
    "start_time": "2025-05-06T23:56:10.391Z"
   },
   {
    "duration": 8,
    "start_time": "2025-05-07T01:21:59.646Z"
   },
   {
    "duration": 4,
    "start_time": "2025-05-07T01:22:16.790Z"
   },
   {
    "duration": 5,
    "start_time": "2025-05-07T01:22:20.816Z"
   },
   {
    "duration": 3,
    "start_time": "2025-05-07T01:22:24.523Z"
   },
   {
    "duration": 3,
    "start_time": "2025-05-07T01:22:27.733Z"
   },
   {
    "duration": 4,
    "start_time": "2025-05-07T01:22:28.828Z"
   },
   {
    "duration": 3,
    "start_time": "2025-05-07T01:22:29.683Z"
   },
   {
    "duration": 3,
    "start_time": "2025-05-07T01:22:30.321Z"
   },
   {
    "duration": 3,
    "start_time": "2025-05-07T01:22:30.892Z"
   },
   {
    "duration": 3,
    "start_time": "2025-05-07T01:22:31.479Z"
   },
   {
    "duration": 7,
    "start_time": "2025-05-07T01:22:32.079Z"
   },
   {
    "duration": 4,
    "start_time": "2025-05-07T01:22:32.661Z"
   },
   {
    "duration": 3,
    "start_time": "2025-05-07T01:22:33.228Z"
   },
   {
    "duration": 160,
    "start_time": "2025-05-07T01:31:32.500Z"
   },
   {
    "duration": 21,
    "start_time": "2025-05-07T01:31:55.078Z"
   },
   {
    "duration": 20,
    "start_time": "2025-05-07T01:36:56.788Z"
   },
   {
    "duration": 20,
    "start_time": "2025-05-07T01:37:17.274Z"
   },
   {
    "duration": 39,
    "start_time": "2025-05-07T01:37:41.334Z"
   },
   {
    "duration": 19,
    "start_time": "2025-05-07T01:37:49.604Z"
   },
   {
    "duration": 6,
    "start_time": "2025-05-07T01:37:59.518Z"
   },
   {
    "duration": 6,
    "start_time": "2025-05-07T01:38:47.368Z"
   },
   {
    "duration": 6,
    "start_time": "2025-05-07T01:39:36.627Z"
   },
   {
    "duration": 6,
    "start_time": "2025-05-07T01:39:42.662Z"
   },
   {
    "duration": 6,
    "start_time": "2025-05-07T01:40:49.971Z"
   },
   {
    "duration": 20,
    "start_time": "2025-05-07T02:33:02.544Z"
   },
   {
    "duration": 5,
    "start_time": "2025-05-07T02:34:09.376Z"
   },
   {
    "duration": 6,
    "start_time": "2025-05-07T02:35:11.270Z"
   },
   {
    "duration": 21,
    "start_time": "2025-05-07T02:36:11.119Z"
   },
   {
    "duration": 6,
    "start_time": "2025-05-07T02:36:23.975Z"
   },
   {
    "duration": 6,
    "start_time": "2025-05-07T02:36:37.492Z"
   },
   {
    "duration": 6,
    "start_time": "2025-05-07T02:45:05.383Z"
   },
   {
    "duration": 28,
    "start_time": "2025-05-07T03:03:29.807Z"
   },
   {
    "duration": 26,
    "start_time": "2025-05-07T03:03:47.812Z"
   },
   {
    "duration": 8,
    "start_time": "2025-05-07T03:03:58.554Z"
   },
   {
    "duration": 6,
    "start_time": "2025-05-07T03:04:04.695Z"
   },
   {
    "duration": 6,
    "start_time": "2025-05-07T03:05:24.115Z"
   },
   {
    "duration": 7,
    "start_time": "2025-05-07T03:07:42.535Z"
   },
   {
    "duration": 7,
    "start_time": "2025-05-07T03:08:07.062Z"
   },
   {
    "duration": 11,
    "start_time": "2025-05-07T03:08:16.399Z"
   },
   {
    "duration": 7,
    "start_time": "2025-05-07T03:11:51.244Z"
   },
   {
    "duration": 6,
    "start_time": "2025-05-07T03:20:43.527Z"
   },
   {
    "duration": 6,
    "start_time": "2025-05-07T03:25:44.930Z"
   },
   {
    "duration": 7,
    "start_time": "2025-05-07T04:14:07.291Z"
   },
   {
    "duration": 7,
    "start_time": "2025-05-07T04:43:32.281Z"
   },
   {
    "duration": 4,
    "start_time": "2025-05-07T04:44:04.173Z"
   },
   {
    "duration": 4,
    "start_time": "2025-05-07T04:44:26.608Z"
   },
   {
    "duration": 3,
    "start_time": "2025-05-07T04:45:09.451Z"
   },
   {
    "duration": 8,
    "start_time": "2025-05-07T05:53:41.814Z"
   },
   {
    "duration": 4,
    "start_time": "2025-05-07T05:53:41.824Z"
   },
   {
    "duration": 4,
    "start_time": "2025-05-07T05:53:41.830Z"
   },
   {
    "duration": 6,
    "start_time": "2025-05-07T05:53:41.836Z"
   },
   {
    "duration": 7,
    "start_time": "2025-05-07T05:53:41.843Z"
   },
   {
    "duration": 6,
    "start_time": "2025-05-07T05:53:41.852Z"
   },
   {
    "duration": 4,
    "start_time": "2025-05-07T05:53:41.859Z"
   },
   {
    "duration": 7,
    "start_time": "2025-05-07T05:53:41.865Z"
   },
   {
    "duration": 7,
    "start_time": "2025-05-07T05:53:41.874Z"
   },
   {
    "duration": 6,
    "start_time": "2025-05-07T05:53:41.882Z"
   },
   {
    "duration": 7,
    "start_time": "2025-05-07T05:53:41.965Z"
   }
  ],
  "colab": {
   "provenance": []
  },
  "kernelspec": {
   "display_name": "Python 3 (ipykernel)",
   "language": "python",
   "name": "python3"
  },
  "language_info": {
   "codemirror_mode": {
    "name": "ipython",
    "version": 3
   },
   "file_extension": ".py",
   "mimetype": "text/x-python",
   "name": "python",
   "nbconvert_exporter": "python",
   "pygments_lexer": "ipython3",
   "version": "3.9.19"
  },
  "toc": {
   "base_numbering": 1,
   "nav_menu": {},
   "number_sections": true,
   "sideBar": true,
   "skip_h1_title": true,
   "title_cell": "Table of Contents",
   "title_sidebar": "Contents",
   "toc_cell": false,
   "toc_position": {},
   "toc_section_display": true,
   "toc_window_display": false
  }
 },
 "nbformat": 4,
 "nbformat_minor": 1
}
